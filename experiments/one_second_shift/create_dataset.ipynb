{
 "cells": [
  {
   "cell_type": "code",
   "execution_count": 1,
   "metadata": {
    "collapsed": true
   },
   "outputs": [],
   "source": [
    "import pandas as pd\n",
    "import numpy as np\n",
    "\n",
    "import gc\n",
    "import os\n",
    "import sys\n",
    "\n",
    "from multiprocessing import Pool\n",
    "\n",
    "import operator\n",
    "from collections import Counter"
   ]
  },
  {
   "cell_type": "code",
   "execution_count": 2,
   "metadata": {
    "collapsed": true
   },
   "outputs": [],
   "source": [
    "sys.path.insert(0, os.getenv(\"HOME\") + \"/workdir/MusicMap/\")\n",
    "\n",
    "from utils.mp3_to_wav import convert_one_audio\n",
    "from utils.wav_file_wrapper import *"
   ]
  },
  {
   "cell_type": "code",
   "execution_count": 3,
   "metadata": {
    "collapsed": true
   },
   "outputs": [],
   "source": [
    "%matplotlib inline"
   ]
  },
  {
   "cell_type": "code",
   "execution_count": 4,
   "metadata": {
    "collapsed": true
   },
   "outputs": [],
   "source": [
    "MNT_HDD_PROJECT=\"/mnt/hdd/music_map_project/\"\n",
    "MNT_SSD_PROJECT=\"/mnt/ssd/musicmap_data/\"\n",
    "\n",
    "DATA_MP3 = os.path.join(MNT_HDD_PROJECT, \"audio\")\n",
    "DATA_WAV = os.path.join(MNT_HDD_PROJECT, \"audio_wav\")\n",
    "\n",
    "SPECTRO = os.path.join(MNT_SSD_PROJECT, \"audio_spectro_vbugaevsky\")"
   ]
  },
  {
   "cell_type": "code",
   "execution_count": 5,
   "metadata": {
    "collapsed": true
   },
   "outputs": [],
   "source": [
    "if not os.path.exists(DATA_WAV):\n",
    "    os.mkdir(DATA_WAV)\n",
    "    \n",
    "if not os.path.exists(SPECTRO):\n",
    "    os.mkdir(SPECTRO)"
   ]
  },
  {
   "cell_type": "code",
   "execution_count": 6,
   "metadata": {},
   "outputs": [
    {
     "data": {
      "text/plain": [
       "2802"
      ]
     },
     "execution_count": 6,
     "metadata": {},
     "output_type": "execute_result"
    }
   ],
   "source": [
    "for (dirpath, dirnames, filenames) in os.walk(DATA_MP3):\n",
    "    break\n",
    "\n",
    "audio_ids = map(lambda x: os.path.splitext(x)[0], filenames)\n",
    "len(audio_ids)"
   ]
  },
  {
   "cell_type": "code",
   "execution_count": 7,
   "metadata": {
    "collapsed": true
   },
   "outputs": [],
   "source": [
    "np.random.seed(8888)"
   ]
  },
  {
   "cell_type": "markdown",
   "metadata": {},
   "source": [
    "### Convert \\*.mp3 to \\*.wav"
   ]
  },
  {
   "cell_type": "code",
   "execution_count": null,
   "metadata": {
    "collapsed": true
   },
   "outputs": [],
   "source": [
    "if len(os.listdir(DATA_WAV)) > 0:\n",
    "    raise NameError(\"Directory is not empty!\")\n",
    "\n",
    "try:   \n",
    "    pool = Pool(processes=10)\n",
    "    res = pool.map_async(convert_one_audio, zip(\n",
    "        map(lambda s: s+'.mp3', audio_ids),\n",
    "        [DATA_MP3] * len(audio_ids),\n",
    "        [DATA_WAV] * len(audio_ids)\n",
    "    ))\n",
    "    res.get()\n",
    "finally:\n",
    "    pool.terminate()\n",
    "    pool.join()"
   ]
  },
  {
   "cell_type": "markdown",
   "metadata": {},
   "source": [
    "### Inspect audios length"
   ]
  },
  {
   "cell_type": "code",
   "execution_count": null,
   "metadata": {
    "collapsed": true
   },
   "outputs": [],
   "source": [
    "audio_lengths = dict()\n",
    "\n",
    "for i, audio in enumerate(audio_ids):\n",
    "    wav_file = WavFile.read(os.path.join(DATA_WAV, audio+'.wav'))\n",
    "    audio_lengths[audio] = len(wav_file)\n",
    "    if (i + 1) % 100 == 0:\n",
    "        print i + 1"
   ]
  },
  {
   "cell_type": "code",
   "execution_count": null,
   "metadata": {
    "collapsed": true
   },
   "outputs": [],
   "source": [
    "audio_lengths_grouped = sorted(\n",
    "    list(Counter(audio_lengths.values()).iteritems()),\n",
    "    key=operator.itemgetter(0)\n",
    ")\n",
    "audio_lengths_grouped"
   ]
  },
  {
   "cell_type": "code",
   "execution_count": null,
   "metadata": {
    "collapsed": true
   },
   "outputs": [],
   "source": [
    "len(filter(lambda x: x[0] > 45, audio_lengths_grouped))"
   ]
  },
  {
   "cell_type": "markdown",
   "metadata": {},
   "source": [
    "### Bootstrap spectros"
   ]
  },
  {
   "cell_type": "code",
   "execution_count": null,
   "metadata": {
    "collapsed": true
   },
   "outputs": [],
   "source": [
    "def bootstrap_spectros(audio_id):\n",
    "    wav_file = WavFile.read(os.path.join(DATA_WAV, audio_id+'.wav'))\n",
    "    for offset, subsample in bootstrap_track(wav_file, nb_secs=30, size=1):\n",
    "        save_spectrogram(subsample, os.path.join(\n",
    "            SPECTRO, \"{}_{:04}.png\".format(audio_id, offset)\n",
    "        ), size=(256, 215))\n",
    "    print audio_id+\".png\""
   ]
  },
  {
   "cell_type": "code",
   "execution_count": null,
   "metadata": {
    "collapsed": true
   },
   "outputs": [],
   "source": [
    "if len(os.listdir(SPECTRO)) > 0:\n",
    "    raise NameError(\"Directory is not empty!\")\n",
    "\n",
    "try:\n",
    "    pool = Pool(processes=15)\n",
    "    res = pool.map_async(bootstrap_spectros, audio_ids)\n",
    "    res.wait()\n",
    "finally:\n",
    "    pool.terminate()\n",
    "    pool.join()"
   ]
  },
  {
   "cell_type": "markdown",
   "metadata": {},
   "source": [
    "### Split by train and test"
   ]
  },
  {
   "cell_type": "code",
   "execution_count": 21,
   "metadata": {},
   "outputs": [
    {
     "data": {
      "text/html": [
       "<div>\n",
       "<style>\n",
       "    .dataframe thead tr:only-child th {\n",
       "        text-align: right;\n",
       "    }\n",
       "\n",
       "    .dataframe thead th {\n",
       "        text-align: left;\n",
       "    }\n",
       "\n",
       "    .dataframe tbody tr th {\n",
       "        vertical-align: top;\n",
       "    }\n",
       "</style>\n",
       "<table border=\"1\" class=\"dataframe\">\n",
       "  <thead>\n",
       "    <tr style=\"text-align: right;\">\n",
       "      <th></th>\n",
       "      <th>song_filename</th>\n",
       "      <th>valence</th>\n",
       "      <th>arousal</th>\n",
       "    </tr>\n",
       "  </thead>\n",
       "  <tbody>\n",
       "    <tr>\n",
       "      <th>0</th>\n",
       "      <td>7D</td>\n",
       "      <td>5.8</td>\n",
       "      <td>6.4</td>\n",
       "    </tr>\n",
       "    <tr>\n",
       "      <th>1</th>\n",
       "      <td>8D</td>\n",
       "      <td>3.2</td>\n",
       "      <td>4.8</td>\n",
       "    </tr>\n",
       "    <tr>\n",
       "      <th>2</th>\n",
       "      <td>25D</td>\n",
       "      <td>7.9</td>\n",
       "      <td>4.7</td>\n",
       "    </tr>\n",
       "    <tr>\n",
       "      <th>3</th>\n",
       "      <td>31D</td>\n",
       "      <td>4.7</td>\n",
       "      <td>3.8</td>\n",
       "    </tr>\n",
       "    <tr>\n",
       "      <th>4</th>\n",
       "      <td>37D</td>\n",
       "      <td>6.6</td>\n",
       "      <td>5.3</td>\n",
       "    </tr>\n",
       "  </tbody>\n",
       "</table>\n",
       "</div>"
      ],
      "text/plain": [
       "  song_filename  valence  arousal\n",
       "0            7D      5.8      6.4\n",
       "1            8D      3.2      4.8\n",
       "2           25D      7.9      4.7\n",
       "3           31D      4.7      3.8\n",
       "4           37D      6.6      5.3"
      ]
     },
     "execution_count": 21,
     "metadata": {},
     "output_type": "execute_result"
    }
   ],
   "source": [
    "df = pd.read_csv(\"/mnt/hdd/music_map_project/balanced_audio_target.csv\", index_col=0)\n",
    "df.head()"
   ]
  },
  {
   "cell_type": "code",
   "execution_count": 22,
   "metadata": {},
   "outputs": [
    {
     "data": {
      "text/plain": [
       "<matplotlib.collections.PathCollection at 0x7ff04fc25850>"
      ]
     },
     "execution_count": 22,
     "metadata": {},
     "output_type": "execute_result"
    },
    {
     "data": {
      "image/png": "[encoded data removed]",
      "text/plain": [
       "<matplotlib.figure.Figure at 0x7ff04fd69bd0>"
      ]
     },
     "metadata": {},
     "output_type": "display_data"
    }
   ],
   "source": [
    "plt.figure(figsize=(7,7))\n",
    "plt.scatter(df[\"valence\"], df[\"arousal\"], alpha=0.2)"
   ]
  },
  {
   "cell_type": "code",
   "execution_count": 23,
   "metadata": {
    "collapsed": true
   },
   "outputs": [],
   "source": [
    "audios_va = dict(zip(df.values[:,0], map(list, list(df.values[:,1:]))))"
   ]
  },
  {
   "cell_type": "code",
   "execution_count": 24,
   "metadata": {
    "collapsed": true
   },
   "outputs": [],
   "source": [
    "dataset = []\n",
    "\n",
    "for (dirpath, dirnames, filenames) in os.walk(SPECTRO):\n",
    "    for spectro_name in filenames:\n",
    "        audio_id = spectro_name.split('_')[0]\n",
    "        if audio_id in audios_va:\n",
    "            dataset.append([spectro_name] + audios_va[audio_id])\n",
    "        \n",
    "dataset = pd.DataFrame(dataset, columns=df.columns)"
   ]
  },
  {
   "cell_type": "code",
   "execution_count": 25,
   "metadata": {
    "collapsed": true
   },
   "outputs": [],
   "source": [
    "border = int(0.9 * dataset.shape[0])\n",
    "index = np.arange(dataset.shape[0])\n",
    "np.random.shuffle(index)\n",
    "index_train, index_valid = index[:border], index[border:]"
   ]
  },
  {
   "cell_type": "code",
   "execution_count": 26,
   "metadata": {
    "collapsed": true
   },
   "outputs": [],
   "source": [
    "df_train = dataset.iloc[index_train]\n",
    "df_valid = dataset.iloc[index_valid]"
   ]
  },
  {
   "cell_type": "code",
   "execution_count": 27,
   "metadata": {
    "collapsed": true
   },
   "outputs": [],
   "source": [
    "SPECTRO_CSV = SPECTRO + \"_csv\"\n",
    "\n",
    "if not os.path.exists(SPECTRO_CSV):\n",
    "    os.mkdir(SPECTRO_CSV)"
   ]
  },
  {
   "cell_type": "code",
   "execution_count": 28,
   "metadata": {
    "collapsed": true
   },
   "outputs": [],
   "source": [
    "df_train.to_csv(os.path.join(SPECTRO_CSV, \"train.csv\"), index=False)\n",
    "df_valid.to_csv(os.path.join(SPECTRO_CSV, \"valid.csv\"), index=False)"
   ]
  },
  {
   "cell_type": "code",
   "execution_count": 29,
   "metadata": {},
   "outputs": [
    {
     "data": {
      "text/plain": [
       "<matplotlib.collections.PathCollection at 0x7ff04faa2fd0>"
      ]
     },
     "execution_count": 29,
     "metadata": {},
     "output_type": "execute_result"
    },
    {
     "data": {
      "image/png": "[encoded data removed]",
      "text/plain": [
       "<matplotlib.figure.Figure at 0x7ff04fc3ffd0>"
      ]
     },
     "metadata": {},
     "output_type": "display_data"
    }
   ],
   "source": [
    "plt.figure(figsize=(7,7))\n",
    "plt.scatter(df_train[\"valence\"], df_train[\"arousal\"], alpha=0.2)"
   ]
  },
  {
   "cell_type": "code",
   "execution_count": 30,
   "metadata": {},
   "outputs": [
    {
     "data": {
      "text/plain": [
       "<matplotlib.collections.PathCollection at 0x7ff04f9ea550>"
      ]
     },
     "execution_count": 30,
     "metadata": {},
     "output_type": "execute_result"
    },
    {
     "data": {
      "image/png": "[encoded data removed]",
      "text/plain": [
       "<matplotlib.figure.Figure at 0x7ff04fcfc950>"
      ]
     },
     "metadata": {},
     "output_type": "display_data"
    }
   ],
   "source": [
    "plt.figure(figsize=(7,7))\n",
    "plt.scatter(df_valid[\"valence\"], df_valid[\"arousal\"], alpha=0.2)"
   ]
  },
  {
   "cell_type": "code",
   "execution_count": 31,
   "metadata": {},
   "outputs": [
    {
     "data": {
      "text/plain": [
       "False"
      ]
     },
     "execution_count": 31,
     "metadata": {},
     "output_type": "execute_result"
    }
   ],
   "source": [
    "len(df_train) + len(df_valid) == len(df)"
   ]
  },
  {
   "cell_type": "code",
   "execution_count": 32,
   "metadata": {},
   "outputs": [
    {
     "data": {
      "text/plain": [
       "(2407, 268, 535)"
      ]
     },
     "execution_count": 32,
     "metadata": {},
     "output_type": "execute_result"
    }
   ],
   "source": [
    "len(df_train), len(df_valid), len(df)"
   ]
  },
  {
   "cell_type": "code",
   "execution_count": null,
   "metadata": {
    "collapsed": true
   },
   "outputs": [],
   "source": []
  }
 ],
 "metadata": {
  "kernelspec": {
   "display_name": "Python 2",
   "language": "python",
   "name": "python2"
  },
  "language_info": {
   "codemirror_mode": {
    "name": "ipython",
    "version": 2
   },
   "file_extension": ".py",
   "mimetype": "text/x-python",
   "name": "python",
   "nbconvert_exporter": "python",
   "pygments_lexer": "ipython2",
   "version": "2.7.13"
  }
 },
 "nbformat": 4,
 "nbformat_minor": 2
}
